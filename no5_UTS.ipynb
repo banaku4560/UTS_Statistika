{
 "metadata": {
  "language_info": {
   "codemirror_mode": {
    "name": "ipython",
    "version": 3
   },
   "file_extension": ".py",
   "mimetype": "text/x-python",
   "name": "python",
   "nbconvert_exporter": "python",
   "pygments_lexer": "ipython3",
   "version": "3.8.2-final"
  },
  "orig_nbformat": 2,
  "kernelspec": {
   "name": "python382jvsc74a57bd033d70cbd4c5ed1aa59f98e9c242c66e01d9875ba2fe6de9018ed6a247844a67c",
   "display_name": "Python 3.8.2 32-bit"
  }
 },
 "nbformat": 4,
 "nbformat_minor": 2,
 "cells": [
  {
   "cell_type": "code",
   "execution_count": 45,
   "metadata": {},
   "outputs": [
    {
     "output_type": "stream",
     "name": "stdout",
     "text": [
      "Mean Deviasi(RS) = n/2*value\nKeterangan : \n mi = nilai tengah di setiap interval \n X = Mean \n fi= frekuensi di setiap kelas \n value = sum(abs((mi-X)*fi)) \n\n"
     ]
    }
   ],
   "source": [
    "#Mencari nilai mean deviasi\n",
    "print(\"Mean Deviasi(RS) = n/2*value\")\n",
    "print(\"Keterangan :\",'\\n',\"mi = nilai tengah di setiap interval\",'\\n',\"X = Mean\",'\\n',\"fi= frekuensi di setiap kelas\",'\\n',\"value = sum(abs((mi-X)*fi))\",'\\n')\n",
    "\n",
    "X = 357.75\n",
    "\n",
    "fi = {\n",
    "    \"2-126\" : 28,\n",
    "    \"127-251\" : 31,\n",
    "    \"252-376\" : 16,\n",
    "    \"377-501\" : 10,\n",
    "    \"502-626\" : 8,\n",
    "    \"627-751\" : 14,\n",
    "    \"752-876\" : 4,\n",
    "    \"877-1001\" : 9\n",
    "}\n",
    "mi = {\n",
    "    \"2-126\" : 64,\n",
    "    \"127-251\" : 189,\n",
    "    \"252-376\" : 314,\n",
    "    \"377-501\" : 439,\n",
    "    \"502-626\" : 564,\n",
    "    \"627-751\" : 689,\n",
    "    \"752-876\" : 814,\n",
    "    \"877-1001\" : 939\n",
    "} \n",
    "\n"
   ]
  },
  {
   "cell_type": "code",
   "execution_count": 46,
   "metadata": {},
   "outputs": [
    {
     "output_type": "stream",
     "name": "stdout",
     "text": [
      "mi-X :\n2-126 293.75\n127-251 168.75\n252-376 43.75\n377-501 81.25\n502-626 206.25\n627-751 331.25\n752-876 456.25\n877-1001 581.25\n"
     ]
    }
   ],
   "source": [
    "mi_min_X = {\n",
    "    \"2-126\" : abs(mi[\"2-126\"]-X),\n",
    "    \"127-251\" : abs(mi[\"127-251\"]-X),\n",
    "    \"252-376\" : abs(mi[\"252-376\"]-X),\n",
    "    \"377-501\" : abs(mi[\"377-501\"]-X),\n",
    "    \"502-626\" : abs(mi[\"502-626\"]-X),\n",
    "    \"627-751\" : abs(mi[\"627-751\"]-X),\n",
    "    \"752-876\" : abs(mi[\"752-876\"]-X),\n",
    "    \"877-1001\" : abs(mi[\"877-1001\"]-X)\n",
    "}\n",
    "\n",
    "print(\"mi-X :\")\n",
    "for x,y in mi_min_X.items():\n",
    "    print(x,y)"
   ]
  },
  {
   "cell_type": "code",
   "execution_count": 47,
   "metadata": {},
   "outputs": [
    {
     "output_type": "stream",
     "name": "stdout",
     "text": [
      "(mi-X)*fi : \n\n2-126 8225.0\n127-251 5231.25\n252-376 700.0\n377-501 812.5\n502-626 1650.0\n627-751 4637.5\n752-876 1825.0\n877-1001 5231.25\n\n total_(mi-X)*fi : 28312.5\n"
     ]
    }
   ],
   "source": [
    "mi_min_X_fi = {\n",
    "    \"2-126\" : mi_min_X[\"2-126\"]*fi[\"2-126\"],\n",
    "    \"127-251\" : mi_min_X[\"127-251\"]*fi[\"127-251\"],\n",
    "    \"252-376\" : mi_min_X[\"252-376\"]*fi[\"252-376\"],\n",
    "    \"377-501\" : mi_min_X[\"377-501\"]*fi[\"377-501\"],\n",
    "    \"502-626\" : mi_min_X[\"502-626\"]*fi[\"502-626\"],\n",
    "    \"627-751\" : mi_min_X[\"627-751\"]*fi[\"627-751\"],\n",
    "    \"752-876\" : mi_min_X[\"752-876\"]*fi[\"752-876\"],\n",
    "    \"877-1001\" : mi_min_X[\"877-1001\"]*fi[\"877-1001\"]\n",
    "}\n",
    "\n",
    "print(\"(mi-X)*fi :\",'\\n')\n",
    "for key,item in mi_min_X_fi.items():\n",
    "    print(key,item)\n",
    "\n",
    "value = sum(mi_min_X_fi.values())\n",
    "print('\\n',\"total_(mi-X)*fi :\",value)\n"
   ]
  },
  {
   "cell_type": "code",
   "execution_count": 51,
   "metadata": {},
   "outputs": [
    {
     "output_type": "stream",
     "name": "stdout",
     "text": [
      "Mean Deviasi(RS) = n/2*value\nKeterangan : \n mi = nilai tengah di setiap interval \n X = Mean \n fi= frekuensi di setiap kelas \n value = sum(abs((mi-X)*fi)) \n\nJadi Mean Deviasi(RS)-nya adalah : 235.9375\n"
     ]
    }
   ],
   "source": [
    "print(\"Mean Deviasi(RS) = n/2*value\")\n",
    "print(\"Keterangan :\",'\\n',\"mi = nilai tengah di setiap interval\",'\\n',\"X = Mean\",'\\n',\"fi= frekuensi di setiap kelas\",'\\n',\"value = sum(abs((mi-X)*fi))\",'\\n')\n",
    "\n",
    "rs = (1/120)*value\n",
    "print(\"Jadi Mean Deviasi(RS)-nya adalah :\",rs)"
   ]
  }
 ]
}