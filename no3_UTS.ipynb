{
 "metadata": {
  "language_info": {
   "codemirror_mode": {
    "name": "ipython",
    "version": 3
   },
   "file_extension": ".py",
   "mimetype": "text/x-python",
   "name": "python",
   "nbconvert_exporter": "python",
   "pygments_lexer": "ipython3",
   "version": "3.8.2-final"
  },
  "orig_nbformat": 2,
  "kernelspec": {
   "name": "python382jvsc74a57bd033d70cbd4c5ed1aa59f98e9c242c66e01d9875ba2fe6de9018ed6a247844a67c",
   "display_name": "Python 3.8.2 32-bit"
  }
 },
 "nbformat": 4,
 "nbformat_minor": 2,
 "cells": [
  {
   "cell_type": "code",
   "execution_count": 6,
   "metadata": {},
   "outputs": [
    {
     "output_type": "stream",
     "name": "stdout",
     "text": [
      "modus = L_o + c {f1o/(f1o + f2o)\nKeterangan : \n L_o = batas kelas bawah untuk kelas dimana modus berada \n c = Panjang kelas \n f1o = selisih frekuensi kelas yang memuat modus dengan frekuensi kelas sebelumnya \n f2o = selisih frekuensi kelas yang memuat modus dengan frekuensi kelas sesudahnya \n\n2-126 = 28\n127-251 = 31\n252-376 = 16\n377-501 = 10\n502-626 = 8\n627-751 = 14\n752-876 = 4\n877-1001 = 9\n\n modus (frekuensi terbanyak) berada pada interval 127-251, maka :\n"
     ]
    }
   ],
   "source": [
    "#Menghitung nilai modus (nilai yang paling sering muncul)\n",
    "print(\"modus = L_o + c {f1o/(f1o + f2o)\")\n",
    "print(\"Keterangan :\",'\\n',\"L_o = batas kelas bawah untuk kelas dimana modus berada\",'\\n',\"c = Panjang kelas\",'\\n',\"f1o = selisih frekuensi kelas yang memuat modus dengan frekuensi kelas sebelumnya\",'\\n',\"f2o = selisih frekuensi kelas yang memuat modus dengan frekuensi kelas sesudahnya\",'\\n')\n",
    "\n",
    "fi = {\n",
    "    \"2-126 =\" : 28,\n",
    "    \"127-251 =\" : 31,\n",
    "    \"252-376 =\" : 16,\n",
    "    \"377-501 =\" : 10,\n",
    "    \"502-626 =\" : 8,\n",
    "    \"627-751 =\" : 14,\n",
    "    \"752-876 =\" : 4,\n",
    "    \"877-1001 =\" : 9\n",
    "}\n",
    "\n",
    "for key,item in fi.items():\n",
    "    print(key,item)\n",
    "\n",
    "print('\\n',\"modus (frekuensi terbanyak) berada pada interval 127-251, maka :\")\n"
   ]
  },
  {
   "cell_type": "code",
   "execution_count": 8,
   "metadata": {},
   "outputs": [
    {
     "output_type": "stream",
     "name": "stdout",
     "text": [
      "modus bernilai : 147.33333333333334\n"
     ]
    }
   ],
   "source": [
    "L_o = 127 - 0.5\n",
    "c = 125\n",
    "f1o = 31-28\n",
    "f2o = 31-16\n",
    "value = (f1o/(f1o + f2o))\n",
    "modus = L_o + c*value\n",
    "print(\"modus bernilai :\",modus)\n"
   ]
  }
 ]
}