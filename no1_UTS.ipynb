{
 "metadata": {
  "language_info": {
   "codemirror_mode": {
    "name": "ipython",
    "version": 3
   },
   "file_extension": ".py",
   "mimetype": "text/x-python",
   "name": "python",
   "nbconvert_exporter": "python",
   "pygments_lexer": "ipython3",
   "version": "3.8.2-final"
  },
  "orig_nbformat": 2,
  "kernelspec": {
   "name": "python38232bit297e1dcd6e15436d83088001537b79fa",
   "display_name": "Python 3.8.2 32-bit"
  },
  "metadata": {
   "interpreter": {
    "hash": "33d70cbd4c5ed1aa59f98e9c242c66e01d9875ba2fe6de9018ed6a247844a67c"
   }
  }
 },
 "nbformat": 4,
 "nbformat_minor": 2,
 "cells": [
  {
   "cell_type": "code",
   "execution_count": 1,
   "metadata": {},
   "outputs": [],
   "source": [
    "import pandas as pd\n",
    "import math"
   ]
  },
  {
   "cell_type": "code",
   "execution_count": 2,
   "metadata": {},
   "outputs": [
    {
     "output_type": "stream",
     "name": "stdout",
     "text": [
      "     Weight\n0       2.0\n1       5.9\n2      32.0\n3      40.0\n4      40.0\n..      ...\n115   955.0\n116   975.0\n117  1000.0\n118  1000.0\n119  1000.0\n\n[120 rows x 1 columns]\n"
     ]
    }
   ],
   "source": [
    "#menampilkan data file ke dalam python\n",
    "data_frame = pd.read_csv('Statistika.csv')\n",
    "print(data_frame)"
   ]
  },
  {
   "cell_type": "code",
   "execution_count": 7,
   "metadata": {},
   "outputs": [
    {
     "output_type": "stream",
     "name": "stdout",
     "text": [
      "Range : 998\n"
     ]
    }
   ],
   "source": [
    "#mencari range (rentang nilai)\n",
    "#diketahui pada hasil di atas, data terkecil bernilai 2 dan data terbesar bernilai 1000\n",
    "x_min = 2\n",
    "x_max = 1000\n",
    "rentang_nilai = x_max - x_min\n",
    "print(\"Range :\",rentang_nilai)"
   ]
  },
  {
   "cell_type": "code",
   "execution_count": 8,
   "metadata": {},
   "outputs": [
    {
     "output_type": "stream",
     "name": "stdout",
     "text": [
      "interval kelas : 124.75\ndibulatkan ke atas : 125\n"
     ]
    }
   ],
   "source": [
    "#Menentukan lebar interval kelas\n",
    "K = 8\n",
    "i = rentang_nilai/K\n",
    "print(\"interval kelas :\", i)\n",
    "print(\"dibulatkan ke atas :\", round(i))"
   ]
  },
  {
   "cell_type": "code",
   "execution_count": 21,
   "metadata": {},
   "outputs": [],
   "source": [
    "#menentukan interval kelas dan frekuensi dari setiap interval kelas\n",
    "fi = {\n",
    "    \"2-126\" : 28,\n",
    "    \"127-251\" : 31,\n",
    "    \"252-376\" : 16,\n",
    "    \"377-501\" : 10,\n",
    "    \"502-626\" : 8,\n",
    "    \"627-751\" : 14,\n",
    "    \"752-876\" : 4,\n",
    "    \"877-1001\" : 9\n",
    "}\n",
    "#mencari nilai tengah dengan cara batas atas tiap interval dan batas bawah tiap interval dibagi dengan 2\n",
    "mi = {\n",
    "    \"2-126\" : 64,\n",
    "    \"127-251\" : 189,\n",
    "    \"252-376\" : 314,\n",
    "    \"377-501\" : 439,\n",
    "    \"502-626\" : 564,\n",
    "    \"627-751\" : 689,\n",
    "    \"752-876\" : 814,\n",
    "    \"877-1001\" : 939\n",
    "} \n",
    "#mencari perkalian atara mi dan fi\n",
    "mifi = {\n",
    "    \"2-126\" : mi[\"2-126\"]*fi[\"2-126\"],\n",
    "    \"127-251\" : mi[\"127-251\"]*fi[\"127-251\"],\n",
    "    \"252-376\" : mi[\"252-376\"]*fi[\"252-376\"],\n",
    "    \"377-501\" : mi[\"377-501\"]*fi[\"377-501\"],\n",
    "    \"502-626\" : mi[\"502-626\"]*fi[\"502-626\"],\n",
    "    \"627-751\" : mi[\"627-751\"]*fi[\"627-751\"],\n",
    "    \"752-876\" : mi[\"752-876\"]*fi[\"752-876\"],\n",
    "    \"877-1001\" : mi[\"877-1001\"]*fi[\"877-1001\"],\n",
    "}\n"
   ]
  },
  {
   "cell_type": "code",
   "execution_count": 10,
   "metadata": {},
   "outputs": [
    {
     "output_type": "stream",
     "name": "stdout",
     "text": [
      "KETERANGAN : \n mi = nilai tengah dari setiap interval \n fi = frekuensi dari setiap interval \n mifi = perkalian dari mi dan fi di setiap interval \n\nnilai masing masing mifi adalah : dict_values([1792, 5859, 5024, 4390, 4512, 9646, 3256, 8451])\ntotal mi.fi adalah : 42930\nnilai masing masing fi adalah : dict_values([28, 31, 16, 10, 8, 14, 4, 9])\ntotal fi adalah : 120 \n\nMEAN : total_mifi/total_fi\njadi total rata ratanya adalah : 357.75\n"
     ]
    }
   ],
   "source": [
    "#MENGHITUNG MEAN\n",
    "print(\"KETERANGAN :\",'\\n',\"mi = nilai tengah dari setiap interval\",'\\n',\"fi = frekuensi dari setiap interval\",'\\n',\"mifi = perkalian dari mi dan fi di setiap interval\",'\\n')\n",
    "print(\"nilai masing masing mifi adalah :\", mifi.values())\n",
    "total_mifi = sum(mifi.values())\n",
    "print(\"total mi.fi adalah :\",total_mifi)\n",
    "print(\"nilai masing masing fi adalah :\", fi.values())\n",
    "total_fi = sum(fi.values())\n",
    "print(\"total fi adalah :\",total_fi,'\\n')\n",
    "print(\"MEAN : total_mifi/total_fi\")\n",
    "mean = total_mifi/total_fi\n",
    "print(\"jadi total rata ratanya adalah :\",mean)"
   ]
  },
  {
   "cell_type": "code",
   "execution_count": null,
   "metadata": {},
   "outputs": [],
   "source": []
  }
 ]
}