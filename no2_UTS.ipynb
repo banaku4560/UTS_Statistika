{
 "metadata": {
  "language_info": {
   "codemirror_mode": {
    "name": "ipython",
    "version": 3
   },
   "file_extension": ".py",
   "mimetype": "text/x-python",
   "name": "python",
   "nbconvert_exporter": "python",
   "pygments_lexer": "ipython3",
   "version": "3.8.2-final"
  },
  "orig_nbformat": 2,
  "kernelspec": {
   "name": "python38232bit297e1dcd6e15436d83088001537b79fa",
   "display_name": "Python 3.8.2 32-bit"
  },
  "metadata": {
   "interpreter": {
    "hash": "33d70cbd4c5ed1aa59f98e9c242c66e01d9875ba2fe6de9018ed6a247844a67c"
   }
  }
 },
 "nbformat": 4,
 "nbformat_minor": 2,
 "cells": [
  {
   "cell_type": "code",
   "execution_count": 1,
   "metadata": {},
   "outputs": [],
   "source": [
    "import pandas as pd"
   ]
  },
  {
   "cell_type": "code",
   "execution_count": 2,
   "metadata": {},
   "outputs": [
    {
     "output_type": "stream",
     "name": "stdout",
     "text": [
      "     Weight\n0       2.0\n1       5.9\n2      32.0\n3      40.0\n4      40.0\n5      51.5\n6      55.0\n7      60.0\n8      69.0\n9      70.0\n10     78.0\n11     78.0\n12     80.0\n13     85.0\n14     85.0\n15     87.0\n16     90.0\n17    100.0\n18    110.0\n19    110.0\n20    110.0\n21    115.0\n22    120.0\n23    120.0\n24    120.0\n25    120.0\n26    120.0\n27    125.0\n28    130.0\n29    130.0\n30    130.0\n31    135.0\n32    140.0\n33    140.0\n34    145.0\n35    145.0\n36    145.0\n37    145.0\n38    150.0\n39    150.0\n40    150.0\n41    150.0\n42    160.0\n43    160.0\n44    161.0\n45    169.0\n46    170.0\n47    170.0\n48    180.0\n49    180.0\n50    188.0\n51    197.0\n52    200.0\n53    200.0\n54    218.0\n55    225.0\n56    242.0\n57    250.0\n58    250.0\n59    260.0\n60    265.0\n61    270.0\n62    270.0\n63    272.0\n64    273.0\n65    290.0\n66    290.0\n67    300.0\n68    300.0\n69    300.0\n70    306.0\n71    320.0\n72    340.0\n73    340.0\n74    363.0\n75    390.0\n76    390.0\n77    430.0\n78    450.0\n79    450.0\n80    475.0\n81    500.0\n82    500.0\n83    500.0\n84    500.0\n85    514.0\n86    540.0\n87    556.0\n88    575.0\n89    600.0\n90    600.0\n91    610.0\n92    620.0\n93    650.0\n94    650.0\n95    680.0\n96    685.0\n97    685.0\n98    690.0\n99    700.0\n100   700.0\n101   700.0\n102   700.0\n103   700.0\n104   714.0\n105   720.0\n106   725.0\n107   800.0\n108   820.0\n109   840.0\n110   850.0\n111   900.0\n112   920.0\n113   925.0\n114   950.0\n115   955.0\n116   975.0\n117  1000.0\n118  1000.0\n119  1000.0\n"
     ]
    }
   ],
   "source": [
    "#mencari median atau nilai tengah keselurhan\n",
    "#karena data berjumlah 120, maka nilai tengah akan diambil dari index ke 59 dan 60\n",
    "df = pd.read_csv('Statistika.csv')\n",
    "print(df.to_string()) "
   ]
  },
  {
   "cell_type": "code",
   "execution_count": 10,
   "metadata": {},
   "outputs": [
    {
     "output_type": "stream",
     "name": "stdout",
     "text": [
      "Median = L_o + C {(n/2 - total_(fi0)}/𝑓𝑚 \n\nKETERANGAN : \n L_o = batas kelas bawah untuk kelas dimana median berada \n C = Panjang Kelas \n total_(fi0) = jumlah frekuensi kumulatif sebelum median berada \n 𝑓𝑚 = frekuensi dari kelas dimana median berada \n n = banyaknya data \n\n2-126 = 28\n127-251 = 31\n252-376 = 16\n377-501 = 10\n502-626 = 8\n627-751 = 14\n752-876 = 4\n877-1001 = 9\n\n nilai tengah adalah 262.5 \n nilai tengah berada pada interval 252-376\n"
     ]
    }
   ],
   "source": [
    "print(\"Median = L_o + C {(n/2 - total_(fi0)}/𝑓𝑚\",'\\n')\n",
    "print(\"KETERANGAN :\",'\\n',\"L_o = batas kelas bawah untuk kelas dimana median berada\",'\\n',\"C = Panjang Kelas\",'\\n',\"total_(fi0) = jumlah frekuensi kumulatif sebelum median berada\",'\\n',\"𝑓𝑚 = frekuensi dari kelas dimana median berada\",'\\n',\"n = banyaknya data\",'\\n')\n",
    "\n",
    "fi = {\n",
    "    \"2-126 =\" : 28,\n",
    "    \"127-251 =\" : 31,\n",
    "    \"252-376 =\" : 16,\n",
    "    \"377-501 =\" : 10,\n",
    "    \"502-626 =\" : 8,\n",
    "    \"627-751 =\" : 14,\n",
    "    \"752-876 =\" : 4,\n",
    "    \"877-1001 =\" : 9\n",
    "}\n",
    "\n",
    "for key,item in fi.items():\n",
    "    print(key,item)\n",
    "\n",
    "#menentukan letak median\n",
    "#disitu bisa dilihat bahwa nilai dari index ke-59 adalah 260 dan nilai index ke-60 adalah 265, maka\n",
    "med = (df.Weight[59]+df.Weight[60])/2\n",
    "print('\\n',\"nilai tengah adalah\", med,'\\n',\"nilai tengah berada pada interval 252-376\")\n",
    "#nilai tengah bernilai 262,5 yang berarti nilai tengah yang kita cari berada pada interval 252-376\n"
   ]
  },
  {
   "cell_type": "code",
   "execution_count": 16,
   "metadata": {},
   "outputs": [
    {
     "output_type": "stream",
     "name": "stdout",
     "text": [
      "0.0625\nMedian bernilai : 259.3125\n"
     ]
    }
   ],
   "source": [
    "#Menghitung nilai Median\n",
    "L_o = 252 - 0.5\n",
    "c = 125\n",
    "total_fio = 28 + 31\n",
    "fm = 16\n",
    "n = 120\n",
    "value = ((n/2) - total_fio)/fm\n",
    "print(value)\n",
    "median = L_o + c*value\n",
    "print(\"Median bernilai :\",median)"
   ]
  },
  {
   "cell_type": "code",
   "execution_count": null,
   "metadata": {},
   "outputs": [],
   "source": []
  }
 ]
}