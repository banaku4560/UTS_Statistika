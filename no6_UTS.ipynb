{
 "metadata": {
  "language_info": {
   "codemirror_mode": {
    "name": "ipython",
    "version": 3
   },
   "file_extension": ".py",
   "mimetype": "text/x-python",
   "name": "python",
   "nbconvert_exporter": "python",
   "pygments_lexer": "ipython3",
   "version": "3.8.2-final"
  },
  "orig_nbformat": 2,
  "kernelspec": {
   "name": "python382jvsc74a57bd033d70cbd4c5ed1aa59f98e9c242c66e01d9875ba2fe6de9018ed6a247844a67c",
   "display_name": "Python 3.8.2 32-bit"
  }
 },
 "nbformat": 4,
 "nbformat_minor": 2,
 "cells": [
  {
   "cell_type": "code",
   "execution_count": 1,
   "metadata": {},
   "outputs": [],
   "source": [
    "import math"
   ]
  },
  {
   "cell_type": "code",
   "execution_count": 5,
   "metadata": {},
   "outputs": [
    {
     "output_type": "stream",
     "name": "stdout",
     "text": [
      "Simpangan baku = sqrt((1/n)*values)\nKeterangan : \n xi = nilai tengah di setiap interval \n X = Mean \n f= frekuensi di setiap kelas \n values = sum((xi-X)**(2)*f) \n\n(xi-X)**(2) : \n\n2-126 86289.0625\n127-251 28476.5625\n252-376 1914.0625\n377-501 6601.5625\n502-626 42539.0625\n627-751 109726.5625\n752-876 208164.0625\n877-1001 337851.5625\n"
     ]
    }
   ],
   "source": [
    "print(\"Simpangan baku = sqrt((1/n)*values)\")\n",
    "print(\"Keterangan :\",'\\n',\"xi = nilai tengah di setiap interval\",'\\n',\"X = Mean\",'\\n',\"f= frekuensi di setiap kelas\",'\\n',\"values = sum((xi-X)**(2)*f)\",'\\n')\n",
    "\n",
    "X = 357.75\n",
    "f = {\n",
    "    \"2-126\" : 28,\n",
    "    \"127-251\" : 31,\n",
    "    \"252-376\" : 16,\n",
    "    \"377-501\" : 10,\n",
    "    \"502-626\" : 8,\n",
    "    \"627-751\" : 14,\n",
    "    \"752-876\" : 4,\n",
    "    \"877-1001\" : 9\n",
    "}\n",
    "xi = {\n",
    "    \"2-126\" : 64,\n",
    "    \"127-251\" : 189,\n",
    "    \"252-376\" : 314,\n",
    "    \"377-501\" : 439,\n",
    "    \"502-626\" : 564,\n",
    "    \"627-751\" : 689,\n",
    "    \"752-876\" : 814,\n",
    "    \"877-1001\" : 939\n",
    "} \n",
    "\n",
    "xi_min_X_pow2 = {\n",
    "    \"2-126\" : math.pow(xi[\"2-126\"]-X,2),\n",
    "    \"127-251\" : math.pow(xi[\"127-251\"]-X,2),\n",
    "    \"252-376\" : math.pow(xi[\"252-376\"]-X,2),\n",
    "    \"377-501\" : math.pow(xi[\"377-501\"]-X,2),\n",
    "    \"502-626\" : math.pow(xi[\"502-626\"]-X,2),\n",
    "    \"627-751\" : math.pow(xi[\"627-751\"]-X,2),\n",
    "    \"752-876\" : math.pow(xi[\"752-876\"]-X,2),\n",
    "    \"877-1001\" : math.pow(xi[\"877-1001\"]-X,2)\n",
    "}\n",
    "\n",
    "print(\"(xi-X)**(2) :\",'\\n')\n",
    "for key,item in xi_min_X_pow2.items():\n",
    "    print(key,item)"
   ]
  },
  {
   "cell_type": "code",
   "execution_count": 8,
   "metadata": {},
   "outputs": [
    {
     "output_type": "stream",
     "name": "stdout",
     "text": [
      "(xi-X)**(2)*f : \n\n2-126 = 2416093.75\n127-251 = 882773.4375\n252-376 = 30625.0\n377-501 = 66015.625\n502-626 = 340312.5\n627-751 = 1536171.875\n752-876 = 832656.25\n877-1001 = 3040664.0625\n\n total_(xi-X)**(2)*f adalah : 9145312.5\n"
     ]
    }
   ],
   "source": [
    "value = {\n",
    "    \"2-126 =\" : xi_min_X_pow2[\"2-126\"]*f[\"2-126\"],\n",
    "    \"127-251 =\" : xi_min_X_pow2[\"127-251\"]*f[\"127-251\"],\n",
    "    \"252-376 =\" : xi_min_X_pow2[\"252-376\"]*f[\"252-376\"],\n",
    "    \"377-501 =\" : xi_min_X_pow2[\"377-501\"]*f[\"377-501\"],\n",
    "    \"502-626 =\" : xi_min_X_pow2[\"502-626\"]*f[\"502-626\"],\n",
    "    \"627-751 =\" : xi_min_X_pow2[\"627-751\"]*f[\"627-751\"],\n",
    "    \"752-876 =\" : xi_min_X_pow2[\"752-876\"]*f[\"752-876\"],\n",
    "    \"877-1001 =\" : xi_min_X_pow2[\"877-1001\"]*f[\"877-1001\"]\n",
    "}\n",
    "\n",
    "print(\"(xi-X)**(2)*f :\",'\\n')\n",
    "for key,item in value.items():\n",
    "    print(key,item)\n",
    "\n",
    "values = sum(value.values())\n",
    "print('\\n',\"total_(xi-X)**(2)*f adalah :\",values)"
   ]
  },
  {
   "cell_type": "code",
   "execution_count": 11,
   "metadata": {},
   "outputs": [
    {
     "output_type": "stream",
     "name": "stdout",
     "text": [
      "Simpangan baku = sqrt((1/n)*values)\nKeterangan : \n xi = nilai tengah di setiap interval \n X = Mean \n f= frekuensi di setiap kelas \n values = sum((xi-X)**(2)*f) \n\nnilai dari sum((xi-X)**(2)*f) adalah 9145312.5 \n\njadi nilai dari simpangan baku adalah = 276.0632853169722\n"
     ]
    }
   ],
   "source": [
    "print(\"Simpangan baku = sqrt((1/n)*values)\")\n",
    "print(\"Keterangan :\",'\\n',\"xi = nilai tengah di setiap interval\",'\\n',\"X = Mean\",'\\n',\"f= frekuensi di setiap kelas\",'\\n',\"values = sum((xi-X)**(2)*f)\",'\\n')\n",
    "print(\"nilai dari sum((xi-X)**(2)*f) adalah\",values,'\\n')\n",
    "simpangan_baku = math.sqrt((1/120)*values)\n",
    "print(\"jadi nilai dari simpangan baku adalah =\",simpangan_baku)"
   ]
  }
 ]
}