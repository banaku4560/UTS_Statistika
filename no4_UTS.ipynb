{
 "metadata": {
  "language_info": {
   "codemirror_mode": {
    "name": "ipython",
    "version": 3
   },
   "file_extension": ".py",
   "mimetype": "text/x-python",
   "name": "python",
   "nbconvert_exporter": "python",
   "pygments_lexer": "ipython3",
   "version": "3.8.2-final"
  },
  "orig_nbformat": 2,
  "kernelspec": {
   "name": "python382jvsc74a57bd033d70cbd4c5ed1aa59f98e9c242c66e01d9875ba2fe6de9018ed6a247844a67c",
   "display_name": "Python 3.8.2 32-bit"
  }
 },
 "nbformat": 4,
 "nbformat_minor": 2,
 "cells": [
  {
   "cell_type": "code",
   "execution_count": 6,
   "metadata": {},
   "outputs": [
    {
     "output_type": "stream",
     "name": "stdout",
     "text": [
      "CARA NO 1 MENENTUKAN RANGE :\nKeterangan : \n x_min = nilai terkecil pada data \n x_max = nilai terbesar pada data\nRange 1 = x_max - x_min\nRange 1 = 998 \n\nCARA NO 2 MENENTUKAN RANGE :\nKeterangan : \n L_n = batas atas kelas terakhir \n L_o = batas bawah kelas pertama\nRange 2 = L_n - L_o\nRange 2 = 1000.0 \n\n"
     ]
    }
   ],
   "source": [
    "#NO 4 MENCARI RANGE\n",
    "#mencari range ada 2 cara\n",
    "print(\"CARA NO 1 MENENTUKAN RANGE :\")\n",
    "print(\"Keterangan :\",'\\n',\"x_min = nilai terkecil pada data\",'\\n','x_max = nilai terbesar pada data')\n",
    "x_min = 2\n",
    "x_max = 1000\n",
    "print(\"Range 1 = x_max - x_min\")\n",
    "rentang1 = x_max - x_min\n",
    "print(\"Range 1 =\",rentang1,'\\n')\n",
    "\n",
    "\n",
    "\n",
    "print(\"CARA NO 2 MENENTUKAN RANGE :\")\n",
    "print(\"Keterangan :\",'\\n',\"L_n = batas atas kelas terakhir\",'\\n','L_o = batas bawah kelas pertama')\n",
    "print(\"Range 2 = L_n - L_o\")\n",
    "L_n = 1001 + 0.5\n",
    "L_o = 2 - 0.5\n",
    "rentang2 = L_n - L_o\n",
    "print(\"Range 2 =\",rentang2,'\\n')\n"
   ]
  },
  {
   "cell_type": "code",
   "execution_count": null,
   "metadata": {},
   "outputs": [],
   "source": []
  }
 ]
}